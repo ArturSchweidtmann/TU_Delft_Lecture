{
 "cells": [
  {
   "cell_type": "markdown",
   "metadata": {},
   "source": [
    "## 0. Load packages and define auxiliary functions "
   ]
  },
  {
   "cell_type": "code",
   "execution_count": null,
   "metadata": {},
   "outputs": [],
   "source": [
    "# installation of packages\n",
    "!pip install numpy\n",
    "!pip install matplotlib\n",
    "\n",
    "# import of packages \n",
    "import numpy as np # used for efficient vector computation\n",
    "import matplotlib.pyplot as plt # used for plotting\n",
    "import matplotlib.animation as animation # used for animation of plots\n",
    "from IPython.display import HTML # used for showing animations \n",
    "\n",
    "# auxiliary functions for animation\n",
    "\n",
    "def init():\n",
    "    # initializes figure and sets desgin of image\n",
    "    global fig, ax, im\n",
    "    fig = plt.figure(1)\n",
    "    # image with cmap and color bar\n",
    "    im = plt.imshow((T_tot[:,:,0]-273.15),cmap=plt.get_cmap('hot'), vmin=T_initial-273.15,vmax=T_hot-273.15,extent=[0,w,h,0])\n",
    "    plt.xlabel('[cm]')\n",
    "    plt.ylabel('[cm]')\n",
    "    cbar_ax = fig.add_axes([0.9, 0.15, 0.03, 0.7]) \n",
    "    cbar_ax.set_xlabel('$T$ / °C', labelpad=20)\n",
    "    fig.colorbar(im, cax=cbar_ax)\n",
    "    # initialize image with temperature at time 0\n",
    "    im.set_data(T_tot[:,:,0])\n",
    "    plt.close()\n",
    "    return \n",
    "    \n",
    "def animate(i):\n",
    "    # changes image of temperature to time: i*dt \n",
    "    global fig, T_tot\n",
    "    fig.suptitle('{:.1f} min'.format(simulation_time/nframes*i))  # set title above image to current time\n",
    "    im.set_data(T_tot[:,:,i]-273.15) # change temperature to i-th temperature\n",
    "    return \n",
    "\n",
    "def get_simulation_options(alpha, w, h, simulation_time):\n",
    "    ### simulation parameter ###\n",
    "    global dx2,dy2,dt,nsteps,nframes,dnframes,nx,ny,dx,dy\n",
    "    dx,dy = 0.1,0.1      # finite step in x,y direction [mm]\n",
    "    dx2, dy2 = dx*dx, dy*dy  #[mm²]\n",
    "    dt = dx2 * dy2 / (2 * alpha * (dx2 + dy2)) # discretized timestep [ms]\n",
    "    \n",
    "    nx, ny = int(w/dx),int(h/dy) # number of nodes in x,y direction \n",
    "    nsteps = simulation_time*60/dt*1000 # number of timesteps\n",
    "    nframes = 40 # number of frames\n",
    "    dnframes = nsteps/nframes # number of timesteps in a single frame\n",
    "    return \n",
    "\n",
    "# auxiliary function to get sample points for comparison with real data\n",
    "def get_sample(T_tot):\n",
    "    x_coordinates = [7.5,20.5] # x-coordinates of samples [cm]\n",
    "    y_coordinates = [2,6] # y-coordinates of samples [cm]\n",
    "    ts = [4,8,12] # times when samples are taken [min]\n",
    "   \n",
    "    simulated_T = [] # initialize simulated_T\n",
    "    for t in ts:\n",
    "        for y in y_coordinates:\n",
    "            for x in x_coordinates:\n",
    "                simulated_T = np.append(simulated_T,T_tot[int(x/dx),int(y/dy),int(t/dt*60*1000/dnframes)])\n",
    "    return simulated_T "
   ]
  },
  {
   "cell_type": "markdown",
   "metadata": {},
   "source": [
    "## 1. Load experimental data\n",
    "\n",
    "Below we load the experimental data. "
   ]
  },
  {
   "cell_type": "code",
   "execution_count": null,
   "metadata": {},
   "outputs": [],
   "source": [
    "# real data, measured 3 times at 4 points \n",
    "real_T = np.array([366.77  , 365.18, 299.794 , 298.2,\n",
    "                   393.516, 393.76, 309.8, 310.19 ,\n",
    "                   408.638, 407.997, 326.82, 322.4])"
   ]
  },
  {
   "cell_type": "markdown",
   "metadata": {},
   "source": [
    "## 2. Set the thermal diffusivity $\\alpha$\n",
    "\n",
    "__Hint: Your value should be in the range of $8*10^{-6}$ to $14*10^{-6}$__\n"
   ]
  },
  {
   "cell_type": "code",
   "execution_count": null,
   "metadata": {},
   "outputs": [],
   "source": [
    "alpha = 1.0*10**(-6) # thermal diffusivity [m²/s]"
   ]
  },
  {
   "cell_type": "code",
   "execution_count": null,
   "metadata": {},
   "outputs": [],
   "source": [
    "# geometrical parameter\n",
    "w = 26       # width of plate [mm]\n",
    "h = 8       # height of plate [mm]\n",
    "\n",
    "# temperatures\n",
    "T_initial = 24 + 273.15   # initial temperature [K] (24°)\n",
    "T_hot = 200 + 273.15   # hot temperature on left side [K] (200°C)\n",
    "\n",
    "simulation_time = 12 # simulation time [min] "
   ]
  },
  {
   "cell_type": "markdown",
   "metadata": {},
   "source": [
    "## 3. Finite differences implementation \n",
    "\n",
    "The temperature $T_{x_n,y_n}^{n+1}$ at the subsequent time step $t_{n+1}$ is approximated by:\n",
    "\n",
    "$\\Large T_{x_n,y_n}^{t_{n+1}} = T_{x_n,y_n}^{t_n} + \\alpha \\Delta t (\\frac{T_{x_n,y_{n+1}}^{t_n} - 2 T_{x_n,y_{n}}^{t_n}+ T_{x_n,y_{n-1}}^{t_n}}{\\Delta y^2} + \\frac{T_{x_{n+1},y_{n}}^{t_n} - 2 T_{x_n,y_{n}}^{t_n} + T_{x_{n-1},y_{n}}^{t_n}}{\\Delta x^2}) $\n"
   ]
  },
  {
   "cell_type": "code",
   "execution_count": null,
   "metadata": {},
   "outputs": [],
   "source": [
    "def do_euler_foward(T):\n",
    "    # compute temperature profile through central difference in space and Euler forward in time\n",
    "    for i in range(int(dnframes)):\n",
    "        T[1:-1, 1:-1] = T[1:-1, 1:-1] + alpha * dt * (\n",
    "              (T[2:, 1:-1] - 2*T[1:-1, 1:-1] + T[:-2, 1:-1])/dx2\n",
    "              + (T[1:-1, 2:] - 2*T[1:-1, 1:-1] + T[1:-1, :-2])/dy2 )\n",
    "        # handle outer boundaries  \n",
    "        T[:,0] = T_hot     # left edge is isothermal at T_hot\n",
    "        T[:,-1] = T[:,-2]  # right edge is adiabat \n",
    "        T[0,:] = T[1,:]    # upper edge is adiabat\n",
    "        T[-1,:] = T[-2,:]  # lower edge is adiabat     \n",
    "    return T\n",
    "\n",
    "# get simulation parameters\n",
    "get_simulation_options(alpha, w, h, simulation_time)\n",
    "\n",
    "### Initialization ###\n",
    "T_tot = np.zeros([nx,ny,nframes+1]) # initialize temperature tensor T_tot(x,y,t)\n",
    "T_tot[:,:,0] = T_initial * np.ones((nx, ny)) # set initial temperature at t0\n",
    "\n",
    "\n",
    "### Simulation ###\n",
    "for i in range(nframes): # iterate through timesteps\n",
    "    T_tot[:,:,i+1]= do_euler_foward(T_tot[:,:,i].copy()) \n",
    "    "
   ]
  },
  {
   "cell_type": "markdown",
   "metadata": {},
   "source": [
    "# 4. Animation"
   ]
  },
  {
   "cell_type": "code",
   "execution_count": null,
   "metadata": {},
   "outputs": [],
   "source": [
    "plt.ion()\n",
    "init()\n",
    "ani = animation.FuncAnimation(fig, animate, frames = nframes) \n",
    "HTML(ani.to_jshtml())"
   ]
  },
  {
   "cell_type": "markdown",
   "metadata": {},
   "source": [
    "## 5. Compute simulation error"
   ]
  },
  {
   "cell_type": "code",
   "execution_count": null,
   "metadata": {},
   "outputs": [],
   "source": [
    "# MSE:\n",
    "simulated_T = get_sample(T_tot) # get sample points for direct comparison\n",
    "\n",
    "mse = (np.square(simulated_T - real_T)).mean() # calculate mean squarred error between expirement and simulation\n",
    "\n",
    "display('The mean squarred error (MSE) for alpha = ' + str(np.round(alpha*10**6,3)) + ' [10^(-6) m^2/s] resulted in '  + str(np.round(mse,3)))"
   ]
  },
  {
   "cell_type": "markdown",
   "metadata": {},
   "source": [
    "## 6. Please submit your $MSE \\ in \\ [K^2]$ and your $\\alpha \\ in \\ [10^{-6} \\frac{m^2}{s}]$  to the google form for comparsion \n",
    "\n",
    "### Submit results: https://forms.gle/XjQnvJzamnYqvSBh6 \n",
    "\n",
    "### See everyone's results:\u000b",
    "https://docs.google.com/spreadsheets/d/1fKRSPZf_FKY3udpnckJZpJY8xTPOg761DoSpk6rAOmg/edit?usp=sharing"
   ]
  }
 ],
 "metadata": {
  "celltoolbar": "Tags",
  "kernelspec": {
   "display_name": "Python 3",
   "language": "python",
   "name": "python3"
  },
  "language_info": {
   "codemirror_mode": {
    "name": "ipython",
    "version": 3
   },
   "file_extension": ".py",
   "mimetype": "text/x-python",
   "name": "python",
   "nbconvert_exporter": "python",
   "pygments_lexer": "ipython3",
   "version": "3.8.3"
  }
 },
 "nbformat": 4,
 "nbformat_minor": 4
}
